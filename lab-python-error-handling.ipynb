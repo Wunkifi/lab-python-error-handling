{
 "cells": [
  {
   "cell_type": "markdown",
   "id": "25d7736c-ba17-4aff-b6bb-66eba20fbf4e",
   "metadata": {},
   "source": [
    "# Lab | Error Handling"
   ]
  },
  {
   "cell_type": "markdown",
   "id": "bc99b386-7508-47a0-bcdb-d969deaf6c8b",
   "metadata": {},
   "source": [
    "## Exercise: Error Handling for Managing Customer Orders\n",
    "\n",
    "The implementation of your code for managing customer orders assumes that the user will always enter a valid input. \n",
    "\n",
    "For example, we could modify the `initialize_inventory` function to include error handling.\n",
    "   - If the user enters an invalid quantity (e.g., a negative value or a non-numeric value), display an error message and ask them to re-enter the quantity for that product.\n",
    "   - Use a try-except block to handle the error and continue prompting the user until a valid quantity is entered.\n",
    "\n",
    "```python\n",
    "# Step 1: Define the function for initializing the inventory with error handling\n",
    "def initialize_inventory(products):\n",
    "    inventory = {}\n",
    "    for product in products:\n",
    "        valid_quantity = False\n",
    "        while not valid_quantity:\n",
    "            try:\n",
    "                quantity = int(input(f\"Enter the quantity of {product}s available: \"))\n",
    "                if quantity < 0:\n",
    "                    raise ValueError(\"Invalid quantity! Please enter a non-negative value.\")\n",
    "                valid_quantity = True\n",
    "            except ValueError as error:\n",
    "                print(f\"Error: {error}\")\n",
    "        inventory[product] = quantity\n",
    "    return inventory\n",
    "\n",
    "# Or, in another way:\n",
    "\n",
    "def initialize_inventory(products):\n",
    "    inventory = {}\n",
    "    for product in products:\n",
    "        valid_input = False\n",
    "        while not valid_input:\n",
    "            try:\n",
    "                quantity = int(input(f\"Enter the quantity of {product}s available: \"))\n",
    "                if quantity >= 0:\n",
    "                    inventory[product] = quantity\n",
    "                    valid_input = True\n",
    "                else:\n",
    "                    print(\"Quantity cannot be negative. Please enter a valid quantity.\")\n",
    "            except ValueError:\n",
    "                print(\"Invalid input. Please enter a valid quantity.\")\n",
    "    return inventory\n",
    "```\n",
    "\n",
    "Let's enhance your code by implementing error handling to handle invalid inputs.\n",
    "\n",
    "Follow the steps below to complete the exercise:\n",
    "\n",
    "2. Modify the `calculate_total_price` function to include error handling.\n",
    "   - If the user enters an invalid price (e.g., a negative value or a non-numeric value), display an error message and ask them to re-enter the price for that product.\n",
    "   - Use a try-except block to handle the error and continue prompting the user until a valid price is entered.\n",
    "\n",
    "3. Modify the `get_customer_orders` function to include error handling.\n",
    "   - If the user enters an invalid number of orders (e.g., a negative value or a non-numeric value), display an error message and ask them to re-enter the number of orders.\n",
    "   - If the user enters an invalid product name (e.g., a product name that is not in the inventory), or that doesn't have stock available, display an error message and ask them to re-enter the product name. *Hint: you will need to pass inventory as a parameter*\n",
    "   - Use a try-except block to handle the error and continue prompting the user until a valid product name is entered.\n",
    "\n",
    "4. Test your code by running the program and deliberately entering invalid quantities and product names. Make sure the error handling mechanism works as expected.\n"
   ]
  },
  {
   "cell_type": "code",
   "execution_count": 108,
   "id": "1fdf9241",
   "metadata": {},
   "outputs": [],
   "source": [
    "#Create a list with the products available\n",
    "products = [\"t-shirt\", \"mug\", \"hat\", \"book\", \"keychain\"]\n",
    "#Create an empty dictionary\n",
    "inventory = {}\n",
    "#Create a new empty set to store the customer orders\n",
    "customer_orders = set()\n",
    "total_price = 0"
   ]
  },
  {
   "cell_type": "markdown",
   "id": "43daa018",
   "metadata": {},
   "source": [
    "Step 1: Define the function for initializing the inventory with error handling"
   ]
  },
  {
   "cell_type": "code",
   "execution_count": 12,
   "id": "8dd788da",
   "metadata": {},
   "outputs": [],
   "source": [
    "def initialize_inventory(products):\n",
    "    inventory = {}\n",
    "    for product in products:\n",
    "        valid_input = False\n",
    "        while not valid_input:\n",
    "            try:\n",
    "                quantity = int(input(f\"Enter the quantity of {product}s available: \"))\n",
    "                if quantity >= 0:\n",
    "                    inventory[product] = quantity\n",
    "                    valid_input = True\n",
    "                else:\n",
    "                    print(\"Quantity cannot be negative. Please enter a valid quantity.\")\n",
    "            except ValueError:\n",
    "                print(\"Invalid input. Please enter a valid quantity.\")\n",
    "    return inventory"
   ]
  },
  {
   "cell_type": "code",
   "execution_count": 72,
   "id": "04dd3237",
   "metadata": {},
   "outputs": [],
   "source": [
    "inventory = initialize_inventory(products)"
   ]
  },
  {
   "cell_type": "markdown",
   "id": "526d930c",
   "metadata": {},
   "source": [
    "Step 3: Modify the `get_customer_orders` function to include error handling.\n",
    "   - If the user enters an invalid number of orders (e.g., a negative value or a non-numeric value), display an error message and ask them to re-enter the number of orders.\n",
    "   - If the user enters an invalid product name (e.g., a product name that is not in the inventory), or that doesn't have stock available, display an error message and ask them to re-enter the product name. *Hint: you will need to pass inventory as a parameter*\n",
    "   - Use a try-except block to handle the error and continue prompting the user until a valid product name is entered."
   ]
  },
  {
   "cell_type": "code",
   "execution_count": 74,
   "id": "6e1e83ce",
   "metadata": {},
   "outputs": [],
   "source": [
    "\n",
    "#Modify the function get_customer_orders so it prompts the user to enter the number of customer orders and gathers the product names using a loop and user input. Use comprehension.\n",
    "def get_customer_orders(inventory):\n",
    "     customer_orders = set()\n",
    "     #Ask the user to enter the number of orders, if this is negative or non-numeric display error and ask again\n",
    "     valid_order = False\n",
    "     while not valid_order:\n",
    "          try:\n",
    "               number_of_orders = int(input(\"Enter the number of  products in the order\"))\n",
    "               if number_of_orders > 0:\n",
    "                    valid_order = True\n",
    "                    #Ask the user to enter a valid product for the number of orders. If the product is not in the inventory or the is no stock available display error message and try again\n",
    "                    for order in range(number_of_orders):\n",
    "                         valid_product = False\n",
    "                         while not valid_product:\n",
    "                              try: \n",
    "                                   product = input(\"Enter the name of a product that a customer wants to order\")\n",
    "                                   if product not in inventory or (product in inventory and inventory[product] == 0):\n",
    "                                        print(\"Product not available. Please enter another product\")\n",
    "                                   else:\n",
    "                                        customer_orders.add(product)\n",
    "                                        valid_product = True\n",
    "                              except ValueError:\n",
    "                                   print(\"Invalid input. Please enter a valid order\")\n",
    "\n",
    "          except ValueError:\n",
    "               print(\"Invalid input. Please enter a valid number of orders\")\n",
    "     return customer_orders\n",
    "          "
   ]
  },
  {
   "cell_type": "code",
   "execution_count": 75,
   "id": "af30a685",
   "metadata": {},
   "outputs": [
    {
     "name": "stdout",
     "output_type": "stream",
     "text": [
      "{'hat', 'mug'}\n"
     ]
    }
   ],
   "source": [
    "customer_orders= get_customer_orders(inventory)\n",
    "print(customer_orders)"
   ]
  },
  {
   "cell_type": "markdown",
   "id": "b73aff54",
   "metadata": {},
   "source": [
    "Step 2: Modify the `calculate_total_price` function to include error handling.\n",
    "   - If the user enters an invalid price (e.g., a negative value or a non-numeric value), display an error message and ask them to re-enter the price for that product.\n",
    "   - Use a try-except block to handle the error and continue prompting the user until a valid price is entered."
   ]
  },
  {
   "cell_type": "code",
   "execution_count": 105,
   "id": "0173f6a9",
   "metadata": {},
   "outputs": [],
   "source": [
    "#Add a new function to calculate the total price of the customer order. For each product in customer_orders, prompt the user to enter the price of that product.\n",
    "#Use comprehension to calculate the total price. Note: assume that the user can only have 1 unit of each product.\n",
    "def calculate_customer_order_price(customer_orders):\n",
    "    print(customer_orders)\n",
    "    prices = []\n",
    "    valid_input = False\n",
    "    i = 0\n",
    "    while not valid_input and i < len(customer_orders):\n",
    "        try:\n",
    "            product = list(customer_orders)[i]\n",
    "            price = int(input(f\"Enter the price of  {product}\"))\n",
    "            if price >= 0:\n",
    "                prices.append(price)\n",
    "                i += 1\n",
    "                if len(prices) == len(customer_orders):\n",
    "                    valid_input = True                \n",
    "            else:\n",
    "                print(\"Invalid input. Please enter a valid price\")\n",
    "        except ValueError:\n",
    "            print(\"Invalid input. Please enter a valid price\")\n",
    "    total= sum(prices)\n",
    "    return total"
   ]
  },
  {
   "cell_type": "code",
   "execution_count": 106,
   "id": "da763746",
   "metadata": {},
   "outputs": [
    {
     "name": "stdout",
     "output_type": "stream",
     "text": [
      "{'hat', 'mug'}\n",
      "Invalid input. Please enter a valid price\n",
      "Invalid input. Please enter a valid price\n",
      "Invalid input. Please enter a valid price\n",
      "Invalid input. Please enter a valid price\n",
      "3\n"
     ]
    }
   ],
   "source": [
    "total_price = calculate_customer_order_price(customer_orders)\n",
    "print(total_price)"
   ]
  }
 ],
 "metadata": {
  "kernelspec": {
   "display_name": "base",
   "language": "python",
   "name": "python3"
  },
  "language_info": {
   "codemirror_mode": {
    "name": "ipython",
    "version": 3
   },
   "file_extension": ".py",
   "mimetype": "text/x-python",
   "name": "python",
   "nbconvert_exporter": "python",
   "pygments_lexer": "ipython3",
   "version": "3.12.7"
  }
 },
 "nbformat": 4,
 "nbformat_minor": 5
}
